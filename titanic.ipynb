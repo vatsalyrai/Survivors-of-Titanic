{
 "cells": [
  {
   "cell_type": "code",
   "execution_count": 1,
   "metadata": {},
   "outputs": [
    {
     "name": "stderr",
     "output_type": "stream",
     "text": [
      "C:\\Users\\vatsaly\\Anaconda3\\lib\\site-packages\\sklearn\\linear_model\\least_angle.py:30: DeprecationWarning: `np.float` is a deprecated alias for the builtin `float`. To silence this warning, use `float` by itself. Doing this will not modify any behavior and is safe. If you specifically wanted the numpy scalar type, use `np.float64` here.\n",
      "Deprecated in NumPy 1.20; for more details and guidance: https://numpy.org/devdocs/release/1.20.0-notes.html#deprecations\n",
      "  method='lar', copy_X=True, eps=np.finfo(np.float).eps,\n",
      "C:\\Users\\vatsaly\\Anaconda3\\lib\\site-packages\\sklearn\\linear_model\\least_angle.py:167: DeprecationWarning: `np.float` is a deprecated alias for the builtin `float`. To silence this warning, use `float` by itself. Doing this will not modify any behavior and is safe. If you specifically wanted the numpy scalar type, use `np.float64` here.\n",
      "Deprecated in NumPy 1.20; for more details and guidance: https://numpy.org/devdocs/release/1.20.0-notes.html#deprecations\n",
      "  method='lar', copy_X=True, eps=np.finfo(np.float).eps,\n",
      "C:\\Users\\vatsaly\\Anaconda3\\lib\\site-packages\\sklearn\\linear_model\\least_angle.py:284: DeprecationWarning: `np.float` is a deprecated alias for the builtin `float`. To silence this warning, use `float` by itself. Doing this will not modify any behavior and is safe. If you specifically wanted the numpy scalar type, use `np.float64` here.\n",
      "Deprecated in NumPy 1.20; for more details and guidance: https://numpy.org/devdocs/release/1.20.0-notes.html#deprecations\n",
      "  eps=np.finfo(np.float).eps, copy_Gram=True, verbose=0,\n",
      "C:\\Users\\vatsaly\\Anaconda3\\lib\\site-packages\\sklearn\\linear_model\\least_angle.py:862: DeprecationWarning: `np.float` is a deprecated alias for the builtin `float`. To silence this warning, use `float` by itself. Doing this will not modify any behavior and is safe. If you specifically wanted the numpy scalar type, use `np.float64` here.\n",
      "Deprecated in NumPy 1.20; for more details and guidance: https://numpy.org/devdocs/release/1.20.0-notes.html#deprecations\n",
      "  eps=np.finfo(np.float).eps, copy_X=True, fit_path=True,\n",
      "C:\\Users\\vatsaly\\Anaconda3\\lib\\site-packages\\sklearn\\linear_model\\least_angle.py:1101: DeprecationWarning: `np.float` is a deprecated alias for the builtin `float`. To silence this warning, use `float` by itself. Doing this will not modify any behavior and is safe. If you specifically wanted the numpy scalar type, use `np.float64` here.\n",
      "Deprecated in NumPy 1.20; for more details and guidance: https://numpy.org/devdocs/release/1.20.0-notes.html#deprecations\n",
      "  eps=np.finfo(np.float).eps, copy_X=True, fit_path=True,\n",
      "C:\\Users\\vatsaly\\Anaconda3\\lib\\site-packages\\sklearn\\linear_model\\least_angle.py:1127: DeprecationWarning: `np.float` is a deprecated alias for the builtin `float`. To silence this warning, use `float` by itself. Doing this will not modify any behavior and is safe. If you specifically wanted the numpy scalar type, use `np.float64` here.\n",
      "Deprecated in NumPy 1.20; for more details and guidance: https://numpy.org/devdocs/release/1.20.0-notes.html#deprecations\n",
      "  eps=np.finfo(np.float).eps, positive=False):\n",
      "C:\\Users\\vatsaly\\Anaconda3\\lib\\site-packages\\sklearn\\linear_model\\least_angle.py:1362: DeprecationWarning: `np.float` is a deprecated alias for the builtin `float`. To silence this warning, use `float` by itself. Doing this will not modify any behavior and is safe. If you specifically wanted the numpy scalar type, use `np.float64` here.\n",
      "Deprecated in NumPy 1.20; for more details and guidance: https://numpy.org/devdocs/release/1.20.0-notes.html#deprecations\n",
      "  max_n_alphas=1000, n_jobs=None, eps=np.finfo(np.float).eps,\n",
      "C:\\Users\\vatsaly\\Anaconda3\\lib\\site-packages\\sklearn\\linear_model\\least_angle.py:1602: DeprecationWarning: `np.float` is a deprecated alias for the builtin `float`. To silence this warning, use `float` by itself. Doing this will not modify any behavior and is safe. If you specifically wanted the numpy scalar type, use `np.float64` here.\n",
      "Deprecated in NumPy 1.20; for more details and guidance: https://numpy.org/devdocs/release/1.20.0-notes.html#deprecations\n",
      "  max_n_alphas=1000, n_jobs=None, eps=np.finfo(np.float).eps,\n",
      "C:\\Users\\vatsaly\\Anaconda3\\lib\\site-packages\\sklearn\\linear_model\\least_angle.py:1738: DeprecationWarning: `np.float` is a deprecated alias for the builtin `float`. To silence this warning, use `float` by itself. Doing this will not modify any behavior and is safe. If you specifically wanted the numpy scalar type, use `np.float64` here.\n",
      "Deprecated in NumPy 1.20; for more details and guidance: https://numpy.org/devdocs/release/1.20.0-notes.html#deprecations\n",
      "  eps=np.finfo(np.float).eps, copy_X=True, positive=False):\n"
     ]
    }
   ],
   "source": [
    "import numpy as np\n",
    "import pandas as pd\n",
    "from sklearn import preprocessing\n",
    "from sklearn import model_selection\n",
    "from sklearn.linear_model import LogisticRegression\n",
    "\n",
    "training=pd.read_csv(r'C:\\Users\\vatsaly\\Desktop\\rough\\train.csv').copy()\n",
    "testing=pd.read_csv(r'C:\\Users\\vatsaly\\Desktop\\rough\\test.csv').copy()\n"
   ]
  },
  {
   "cell_type": "code",
   "execution_count": 2,
   "metadata": {},
   "outputs": [
    {
     "data": {
      "text/plain": [
       "array([3, 2, 2, 3, 2, 2, 3, 2, 2, 2, 1, 2, 2, 2, 1, 2, 2, 2, 2, 1, 4, 3,\n",
       "       3, 2, 3, 1, 2, 2, 2, 2, 3, 2, 2, 1, 4, 2, 0, 0, 2, 2, 2, 2, 3, 1,\n",
       "       2, 2, 2, 2, 3, 2, 1, 0, 2, 3, 2, 1, 2, 2, 2, 3, 2, 2, 2, 3, 1, 3,\n",
       "       2, 2, 2, 2, 3, 2, 2, 2, 2, 1, 1, 4, 3, 3, 3, 2, 3, 2, 1, 2, 2, 2,\n",
       "       2, 2, 3, 3, 1, 2, 2, 2, 1, 2, 2, 1, 2, 2, 2, 2, 1, 2, 2, 2, 1, 2,\n",
       "       1, 3, 2, 1, 2, 2, 2, 2, 1, 1, 3, 4, 1, 1, 1, 2, 2, 2, 2, 3, 2, 1,\n",
       "       2, 2, 2, 3, 2, 2, 2, 4, 2, 3, 2, 2, 2, 2, 3, 2, 1, 1, 3, 2, 3, 1,\n",
       "       3, 2, 3, 2, 1, 3, 3, 1, 2, 2, 2, 4, 2, 2, 2, 0, 2, 4, 3, 2, 4, 1,\n",
       "       3, 2, 2, 2, 2, 1, 3, 2, 3, 0, 2, 1, 3, 2, 2, 1, 1, 2, 2, 2, 2, 2,\n",
       "       2, 2, 1, 4, 1, 2, 1, 2, 3, 2, 2, 0, 3, 3, 1, 2, 1, 2, 2, 0, 1, 1,\n",
       "       1, 2, 3, 2, 2, 2, 3, 2, 3, 2, 2, 0, 3, 2, 2, 2, 2, 3, 2, 1, 2, 2,\n",
       "       2, 3, 2, 2, 1, 3, 1, 2, 2, 2, 1, 2, 2, 1, 2, 2, 2, 2, 3, 2, 2, 4,\n",
       "       2, 2, 3, 2, 2, 2, 0, 0, 2, 3, 1, 2, 2, 0, 2, 2, 2, 3, 1, 2, 2, 1,\n",
       "       1, 2, 2, 2, 1, 2, 2, 1, 3, 1, 0, 2, 2, 1, 2, 2, 0, 3, 2, 2, 2, 3,\n",
       "       2, 1, 1, 2, 3, 2, 2, 2, 3, 2, 2, 2, 3, 2, 2, 0, 1, 2, 1, 3, 2, 3,\n",
       "       3, 2, 4, 2, 1, 3, 1, 2, 2, 2, 2, 1, 2, 2, 4, 3, 1, 1, 2, 1, 2, 2,\n",
       "       2, 2, 1, 2, 2, 2, 3, 2, 1, 2, 2, 2, 2, 2, 2, 2, 2, 2, 2, 2, 2, 2,\n",
       "       2, 2, 1, 3, 3, 2, 2, 2, 2, 1, 2, 2, 1, 1, 1, 2, 1, 4, 1, 2, 2, 2,\n",
       "       2, 1, 2, 3, 2, 0, 2, 2, 1, 1, 4, 1, 0, 3, 2, 2, 3, 2, 0, 1, 0, 3,\n",
       "       2, 1, 2, 2, 2, 2, 2, 2, 3, 2, 3, 3, 2, 2, 3, 2, 1, 2, 0, 3, 1, 3,\n",
       "       2, 2, 1, 2, 2, 3, 2, 2, 1, 1, 3, 1, 1, 2, 2, 3, 3, 2, 0, 2, 2, 2,\n",
       "       3, 1, 2, 2, 1, 2, 2, 0, 2, 1, 2, 2, 2, 2, 2, 2, 2, 2, 3, 2, 2, 2,\n",
       "       2, 2, 2, 2, 3, 0, 2, 2, 1, 2, 2, 2, 3, 0, 2, 2, 2, 2, 2, 2, 2, 2,\n",
       "       3, 2, 2, 2, 2, 2, 1, 1, 1, 2, 2, 2, 2, 2, 2, 2, 2, 2, 2, 3, 2, 3,\n",
       "       1, 3, 0, 2, 3, 2, 1, 1, 2, 1, 2, 2, 3, 2, 3, 2, 2, 0, 2, 1, 1, 2,\n",
       "       2, 0, 2, 1, 3, 2, 1, 2, 3, 2, 2, 1, 2, 1, 2, 2, 3, 1, 2, 2, 2, 1,\n",
       "       1, 2, 2, 2, 2, 1, 1, 3, 2, 2, 1, 2, 2, 1, 1, 1, 2, 0, 1, 3, 3, 1,\n",
       "       2, 2, 2, 3, 4, 2, 2, 2, 2, 1, 2, 2, 1, 2, 1, 3, 2, 2, 2, 2, 3, 2,\n",
       "       0, 2, 1, 2, 1, 2, 3, 3, 2, 4, 1, 1, 2, 2, 2, 2, 2, 2, 2, 1, 2, 1,\n",
       "       2, 3, 1, 2, 2, 2, 2, 0, 1, 2, 4, 2, 2, 2, 3, 3, 2, 2, 2, 2, 3, 2,\n",
       "       0, 3, 2, 1, 2, 2, 1, 1])"
      ]
     },
     "execution_count": 2,
     "metadata": {},
     "output_type": "execute_result"
    }
   ],
   "source": [
    "title_training=[]\n",
    "for i in training['Name']:\n",
    "    title_training.append(i.split(',')[1].split('.')[0].strip())\n",
    "title_training=np.array(title_training)\n",
    "title_training[title_training=='Master']=0\n",
    "title_training[title_training=='Miss']=1\n",
    "title_training[title_training=='Mr']=2\n",
    "title_training[title_training=='Mrs']=3\n",
    "title_training[(title_training!='0')&(title_training!='1')&(title_training!='2')&(title_training!='3')]=4\n",
    "title_training=np.array(title_training, dtype='int')\n",
    "title_training"
   ]
  },
  {
   "cell_type": "code",
   "execution_count": 3,
   "metadata": {},
   "outputs": [
    {
     "data": {
      "text/plain": [
       "array([0, 4, 2, 3, 2, 2, 2, 2, 1, 2, 1, 2, 1, 1, 2, 2, 2, 0, 2, 1, 1, 2,\n",
       "       1, 1, 2, 2, 2, 2, 1, 1, 2, 2, 2, 2, 2, 3, 1, 2, 2, 2, 1, 2, 4, 2,\n",
       "       1, 0, 2, 1, 2, 2, 2, 1, 3, 1, 2, 2, 0, 2, 2, 2, 2, 4, 3, 1, 3, 2,\n",
       "       2, 4, 1, 4, 2, 2, 2, 2, 2, 3, 1, 2, 2, 2, 2, 2, 2, 2, 2, 2, 2, 1,\n",
       "       2, 2, 1, 2, 2, 1, 2, 2, 2, 2, 0, 1, 1, 2, 1, 0, 1, 1, 4, 4, 2, 2,\n",
       "       2, 3, 3, 2, 3, 2, 2, 1, 2, 2, 2, 2, 2, 2, 2, 0, 0, 2, 2, 2, 2, 2,\n",
       "       2, 2, 2, 2, 1, 2, 1, 2, 2, 2, 2, 2, 2, 2, 2, 2, 1, 3, 1, 2, 1, 2,\n",
       "       1, 2, 2, 1, 2, 0, 2, 1, 3, 1, 1, 2, 2, 2, 3, 1, 3, 1, 1, 2, 1, 2,\n",
       "       2, 2, 2, 1, 2, 2, 0, 1, 3, 2, 3, 2, 1, 2, 2, 2, 3, 2, 2, 1, 1, 1,\n",
       "       3, 4, 2, 4, 2, 2, 2, 2, 2, 2, 3, 1, 2, 1, 2, 2, 1, 1, 2, 2, 2, 4,\n",
       "       3, 2, 2])"
      ]
     },
     "execution_count": 3,
     "metadata": {},
     "output_type": "execute_result"
    }
   ],
   "source": [
    "title_testing=[]\n",
    "for i in testing['Name']:\n",
    "    title_testing.append(i.split(',')[1].split('.')[0].strip())\n",
    "title_testing=np.array(title_testing)\n",
    "title_testing[title_testing=='Master']=0\n",
    "title_testing[title_testing=='Miss']=1\n",
    "title_testing[title_testing=='Mr']=2\n",
    "title_testing[title_testing=='Mrs']=3\n",
    "title_testing[(title_testing!='0')&(title_testing!='1')&(title_testing!='2')&(title_testing!='3')]=4\n",
    "title_testing=np.array(title_testing, dtype='int')\n",
    "title_testing"
   ]
  },
  {
   "cell_type": "code",
   "execution_count": 4,
   "metadata": {},
   "outputs": [
    {
     "data": {
      "text/plain": [
       "(668, 9)"
      ]
     },
     "execution_count": 4,
     "metadata": {},
     "output_type": "execute_result"
    }
   ],
   "source": [
    "tr=training\n",
    "tr=tr.drop('Name', axis=1)\n",
    "tr.loc[tr['Sex']=='female', 'Sex']=0\n",
    "tr.loc[tr['Sex']=='male', 'Sex']=1\n",
    "tr.loc[tr['Age'].isnull(), 'Age']=tr.loc[tr['Age'].notnull() , 'Age'].median()\n",
    "tr.loc[tr['Embarked'].isnull(), 'Embarked']='S'\n",
    "tr.loc[tr['Embarked']=='S', 'Embarked']=1\n",
    "tr.loc[tr['Embarked']=='C', 'Embarked']=2\n",
    "tr.loc[tr['Embarked']=='Q', 'Embarked']=3\n",
    "tr.loc[tr['Cabin'].isnull(), 'Cabin']=0\n",
    "tr.loc[tr['Cabin']!=0, 'Cabin']=1\n",
    "tr=tr.drop('Ticket', axis=1)\n",
    "training_data=tr.values\n",
    "x=training_data[:, :-1]\n",
    "y=training_data[:, -1]\n",
    "x=np.append(x, title_training.reshape(-1, 1), axis=1)\n",
    "x.shape"
   ]
  },
  {
   "cell_type": "code",
   "execution_count": 5,
   "metadata": {},
   "outputs": [
    {
     "data": {
      "text/plain": [
       "(223, 9)"
      ]
     },
     "execution_count": 5,
     "metadata": {},
     "output_type": "execute_result"
    }
   ],
   "source": [
    "ts=testing\n",
    "ts=ts.drop('Name', axis=1)\n",
    "ts.loc[ts['Sex']=='female', 'Sex']=0\n",
    "ts.loc[ts['Sex']=='male', 'Sex']=1\n",
    "ts.loc[ts['Age'].isnull(), 'Age']=ts.loc[ts['Age'].notnull() , 'Age'].median()\n",
    "ts.loc[ts['Embarked'].isnull(), 'Embarked']='S'\n",
    "ts.loc[ts['Embarked']=='S', 'Embarked']=1\n",
    "ts.loc[ts['Embarked']=='C', 'Embarked']=2\n",
    "ts.loc[ts['Embarked']=='Q', 'Embarked']=3\n",
    "ts.loc[ts['Cabin'].isnull(), 'Cabin']=0\n",
    "ts.loc[ts['Cabin']!=0, 'Cabin']=1\n",
    "ts=ts.drop('Ticket', axis=1)\n",
    "testing_data=ts.values\n",
    "testing_data=np.append(testing_data, title_testing.reshape(-1, 1), axis=1)\n",
    "testing_data.shape"
   ]
  },
  {
   "cell_type": "code",
   "execution_count": 6,
   "metadata": {},
   "outputs": [
    {
     "data": {
      "text/plain": [
       "LogisticRegression(C=1.0, class_weight=None, dual=False, fit_intercept=True,\n",
       "                   intercept_scaling=1, l1_ratio=None, max_iter=100000,\n",
       "                   multi_class='warn', n_jobs=None, penalty='l2',\n",
       "                   random_state=None, solver='saga', tol=1e-05, verbose=0,\n",
       "                   warm_start=False)"
      ]
     },
     "execution_count": 6,
     "metadata": {},
     "output_type": "execute_result"
    }
   ],
   "source": [
    "alg=LogisticRegression(solver='saga', max_iter=100000, tol=0.00001)\n",
    "alg.fit(x, y)"
   ]
  },
  {
   "cell_type": "code",
   "execution_count": 7,
   "metadata": {},
   "outputs": [
    {
     "name": "stderr",
     "output_type": "stream",
     "text": [
      "C:\\Users\\vatsaly\\Anaconda3\\lib\\site-packages\\sklearn\\linear_model\\base.py:291: DeprecationWarning: `np.int` is a deprecated alias for the builtin `int`. To silence this warning, use `int` by itself. Doing this will not modify any behavior and is safe. When replacing `np.int`, you may wish to use e.g. `np.int64` or `np.int32` to specify the precision. If you wish to review your current use, check the release note link for additional information.\n",
      "Deprecated in NumPy 1.20; for more details and guidance: https://numpy.org/devdocs/release/1.20.0-notes.html#deprecations\n",
      "  indices = (scores > 0).astype(np.int)\n"
     ]
    }
   ],
   "source": [
    "predicted=alg.predict(testing_data)\n",
    "np.savetxt(X=predicted, delimiter=',', fname='titanic results final.csv', fmt='%.0f')"
   ]
  },
  {
   "cell_type": "code",
   "execution_count": null,
   "metadata": {},
   "outputs": [],
   "source": []
  }
 ],
 "metadata": {
  "kernelspec": {
   "display_name": "Python 3",
   "language": "python",
   "name": "python3"
  },
  "language_info": {
   "codemirror_mode": {
    "name": "ipython",
    "version": 3
   },
   "file_extension": ".py",
   "mimetype": "text/x-python",
   "name": "python",
   "nbconvert_exporter": "python",
   "pygments_lexer": "ipython3",
   "version": "3.7.4"
  }
 },
 "nbformat": 4,
 "nbformat_minor": 2
}
